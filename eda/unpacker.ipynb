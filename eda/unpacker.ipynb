{
  "nbformat": 4,
  "nbformat_minor": 0,
  "metadata": {
    "colab": {
      "name": "unpacker.ipynb",
      "provenance": [],
      "authorship_tag": "ABX9TyNVpRNW7HYMIEq88I4Va4nU",
      "include_colab_link": true
    },
    "kernelspec": {
      "name": "python3",
      "display_name": "Python 3"
    },
    "language_info": {
      "name": "python"
    }
  },
  "cells": [
    {
      "cell_type": "markdown",
      "metadata": {
        "id": "view-in-github",
        "colab_type": "text"
      },
      "source": [
        "<a href=\"https://colab.research.google.com/github/tanmayyb/screw-detector/blob/main/unpacker.ipynb\" target=\"_parent\"><img src=\"https://colab.research.google.com/assets/colab-badge.svg\" alt=\"Open In Colab\"/></a>"
      ]
    },
    {
      "cell_type": "code",
      "execution_count": 1,
      "metadata": {
        "colab": {
          "base_uri": "https://localhost:8080/"
        },
        "id": "WoOWjOOHzuHj",
        "outputId": "e8129f51-b99a-4507-a4f2-a23ea90ed213"
      },
      "outputs": [
        {
          "output_type": "stream",
          "name": "stdout",
          "text": [
            "Mounted at /content/gdrive\n"
          ]
        }
      ],
      "source": [
        "from google.colab import drive\n",
        "import shutil\n",
        "\n",
        "drive.mount('/content/gdrive')\n",
        "shutil.unpack_archive(\"gdrive/My Drive/screw_dataset/mvtec_screws_v1.0.tar.gz\", \"/content/gdrive/My Drive/screw_dataset/unpacked\")"
      ]
    }
  ]
}