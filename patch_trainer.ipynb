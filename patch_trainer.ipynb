{
  "nbformat": 4,
  "nbformat_minor": 0,
  "metadata": {
    "colab": {
      "name": "patch_trainer.ipynb",
      "provenance": [],
      "toc_visible": true,
      "authorship_tag": "ABX9TyOYzVAT0drB/r92NpPo99Jr",
      "include_colab_link": true
    },
    "kernelspec": {
      "name": "python3",
      "display_name": "Python 3"
    },
    "language_info": {
      "name": "python"
    },
    "gpuClass": "standard"
  },
  "cells": [
    {
      "cell_type": "markdown",
      "metadata": {
        "id": "view-in-github",
        "colab_type": "text"
      },
      "source": [
        "<a href=\"https://colab.research.google.com/github/tanmayyb/screw-detector/blob/main/patch_trainer.ipynb\" target=\"_parent\"><img src=\"https://colab.research.google.com/assets/colab-badge.svg\" alt=\"Open In Colab\"/></a>"
      ]
    },
    {
      "cell_type": "markdown",
      "source": [
        "# Patch Trainer on Nut Dataset"
      ],
      "metadata": {
        "id": "nnIJqbe37Icl"
      }
    },
    {
      "cell_type": "markdown",
      "source": [
        "## Data Loading and Basic Functions"
      ],
      "metadata": {
        "id": "8o_j4DQ6tjHG"
      }
    },
    {
      "cell_type": "code",
      "source": [
        "#@title Imports\n",
        "import os\n",
        "import requests\n",
        "import random\n",
        "import json\n",
        "import numpy as np\n",
        "from skimage import io\n",
        "from scipy import ndimage\n",
        "from shapely.geometry import Point\n",
        "from shapely.geometry.polygon import Polygon\n",
        "\n",
        "import torch\n",
        "from torch import nn\n",
        "import torch.optim as optim\n",
        "from torchsummary import summary\n",
        "import torchvision\n",
        "import torchvision.transforms as transforms\n",
        "\n",
        "import matplotlib.pyplot as plt\n",
        "from matplotlib import pyplot as plt\n",
        "from matplotlib import rcParams, gridspec\n",
        "from matplotlib import patches, transforms as plt_transforms\n",
        "\n",
        "import pickle\n",
        "import cv2\n",
        "\n",
        "rcParams['figure.figsize'] = [16, 6]\n",
        "rcParams['font.size'] =14\n",
        "rcParams['axes.spines.top'] = False\n",
        "rcParams['axes.spines.right'] = False\n",
        "rcParams['figure.autolayout'] = True"
      ],
      "metadata": {
        "id": "Nvoipgp3sNyT",
        "cellView": "form"
      },
      "execution_count": null,
      "outputs": []
    },
    {
      "cell_type": "code",
      "source": [
        "import warnings\n",
        "def fxn():\n",
        "    warnings.warn(\"deprecated\", DeprecationWarning)"
      ],
      "metadata": {
        "id": "7t4gN8RpsWzf"
      },
      "execution_count": null,
      "outputs": []
    },
    {
      "cell_type": "code",
      "source": [
        "from google.colab import drive\n",
        "drive.mount('/content/gdrive/')"
      ],
      "metadata": {
        "id": "vKtWRvzWsZma",
        "outputId": "90458116-8917-4939-9fbf-f5d83f66ccb5",
        "colab": {
          "base_uri": "https://localhost:8080/"
        }
      },
      "execution_count": null,
      "outputs": [
        {
          "output_type": "stream",
          "name": "stdout",
          "text": [
            "Drive already mounted at /content/gdrive/; to attempt to forcibly remount, call drive.mount(\"/content/gdrive/\", force_remount=True).\n"
          ]
        }
      ]
    },
    {
      "cell_type": "code",
      "source": [
        "# @title Choose device\n",
        "def set_device():\n",
        "  device = \"cuda\" if torch.cuda.is_available() else \"cpu\"\n",
        "  if device != \"cuda\":\n",
        "    print(\"GPU is not enabled in this notebook. \\n\"\n",
        "          \"If you want to enable it, in the menu under `Runtime` -> \\n\"\n",
        "          \"`Hardware accelerator.` and select `GPU` from the dropdown menu\")\n",
        "  else:\n",
        "    print(\"GPU is enabled in this notebook. \\n\"\n",
        "          \"If you want to disable it, in the menu under `Runtime` -> \\n\"\n",
        "          \"`Hardware accelerator.` and select `None` from the dropdown menu\")\n",
        "\n",
        "  return device"
      ],
      "metadata": {
        "cellView": "form",
        "id": "TNp2F1nHsSMp"
      },
      "execution_count": null,
      "outputs": []
    },
    {
      "cell_type": "code",
      "source": [
        "device = set_device()"
      ],
      "metadata": {
        "id": "VtSR80ACsU63",
        "outputId": "15c5f0d9-5848-49d4-cf94-498bf2c11748",
        "colab": {
          "base_uri": "https://localhost:8080/"
        }
      },
      "execution_count": null,
      "outputs": [
        {
          "output_type": "stream",
          "name": "stdout",
          "text": [
            "GPU is not enabled in this notebook. \n",
            "If you want to enable it, in the menu under `Runtime` -> \n",
            "`Hardware accelerator.` and select `GPU` from the dropdown menu\n"
          ]
        }
      ]
    },
    {
      "cell_type": "code",
      "source": [
        "path = 'content/gdrive/My Drive/screw_dataset/'"
      ],
      "metadata": {
        "id": "IPMsm_K6sbJi"
      },
      "execution_count": null,
      "outputs": []
    },
    {
      "cell_type": "markdown",
      "source": [
        "### load `imgdict` & `annodict`"
      ],
      "metadata": {
        "id": "fdEeknfKUBOU"
      }
    },
    {
      "cell_type": "code",
      "source": [
        "#with open( os.path.join(path,'saved_variables', 'annodict.pkl'), 'rb') as fid:\n",
        "#  annodict  = pickle.load(fid) "
      ],
      "metadata": {
        "id": "IB8hjHLmUF_C"
      },
      "execution_count": null,
      "outputs": []
    },
    {
      "cell_type": "code",
      "source": [
        "#with open( os.path.join(path,'saved_variables', 'imgdict.pkl'), 'rb') as fid:\n",
        "#  imgdict  = pickle.load(fid) "
      ],
      "metadata": {
        "id": "WYUrycTOWphq"
      },
      "execution_count": null,
      "outputs": []
    },
    {
      "cell_type": "markdown",
      "source": [
        "## Load Patches & Labels"
      ],
      "metadata": {
        "id": "Z6_99zhPteTu"
      }
    },
    {
      "cell_type": "code",
      "source": [
        "cd /"
      ],
      "metadata": {
        "colab": {
          "base_uri": "https://localhost:8080/"
        },
        "id": "ZuaScYrv3KtA",
        "outputId": "ff9fd0fe-4de9-4a6f-f55e-8421daeb3f48"
      },
      "execution_count": null,
      "outputs": [
        {
          "output_type": "stream",
          "name": "stdout",
          "text": [
            "/\n"
          ]
        }
      ]
    },
    {
      "cell_type": "code",
      "source": [
        "path = 'content/gdrive/My Drive/screw_dataset/nut_patch_model'"
      ],
      "metadata": {
        "id": "D4jU1d3bXjyN"
      },
      "execution_count": null,
      "outputs": []
    },
    {
      "cell_type": "code",
      "source": [
        "with open( os.path.join(path, 'preprocessed', 'train_labels.pkl'), 'rb') as fid:\n",
        "  train_labels = pickle.load(fid)\n",
        "\n",
        "with open( os.path.join(path, 'preprocessed', 'test_labels.pkl'), 'rb') as fid:\n",
        "  test_labels = pickle.load(fid)"
      ],
      "metadata": {
        "id": "EPNyQ9j2XbQc"
      },
      "execution_count": null,
      "outputs": []
    },
    {
      "cell_type": "code",
      "source": [
        "path = 'content/gdrive/My Drive/screw_dataset/nut_patch_model/preprocessed'"
      ],
      "metadata": {
        "id": "TZucAsZxaxdY"
      },
      "execution_count": null,
      "outputs": []
    },
    {
      "cell_type": "code",
      "source": [
        "train_img = []\n",
        "for filename in os.listdir(os.path.join(path, 'train')):\n",
        "  img = cv2.imread(os.path.join(path,'train', filename))\n",
        "  if type(img) != None:\n",
        "    train_img.append(img)"
      ],
      "metadata": {
        "id": "K7p69sFDbWcC"
      },
      "execution_count": null,
      "outputs": []
    },
    {
      "cell_type": "code",
      "source": [
        "test_img = []\n",
        "for filename in os.listdir(os.path.join(path, 'test')):\n",
        "  img = cv2.imread(os.path.join(path,'test', filename))\n",
        "  if type(img) != None:\n",
        "    test_img.append(img)"
      ],
      "metadata": {
        "id": "c50vQj6Oa4o6"
      },
      "execution_count": null,
      "outputs": []
    },
    {
      "cell_type": "code",
      "source": [
        "plt.subplot(1,2,1)\n",
        "plt.imshow(train_img[100]*255)\n",
        "plt.subplot(1,2,2)\n",
        "plt.imshow(test_img[0]*255)"
      ],
      "metadata": {
        "colab": {
          "base_uri": "https://localhost:8080/",
          "height": 242
        },
        "id": "BVxB6FR-btS_",
        "outputId": "edcf5a9c-efc4-4290-b046-b2b88f87727c"
      },
      "execution_count": null,
      "outputs": [
        {
          "output_type": "execute_result",
          "data": {
            "text/plain": [
              "<matplotlib.image.AxesImage at 0x7f27bd786710>"
            ]
          },
          "metadata": {},
          "execution_count": 15
        },
        {
          "output_type": "display_data",
          "data": {
            "text/plain": [
              "<Figure size 432x288 with 2 Axes>"
            ],
            "image/png": "[encoded data removed]"
          },
          "metadata": {
            "needs_background": "light"
          }
        }
      ]
    },
    {
      "cell_type": "markdown",
      "source": [
        "## Preprocessing Data"
      ],
      "metadata": {
        "id": "N4BfKG9DtV_z"
      }
    },
    {
      "cell_type": "markdown",
      "source": [
        "From this training data we preprocess and augment it to make it better for training "
      ],
      "metadata": {
        "id": "Mp9ByjcndVNY"
      }
    },
    {
      "cell_type": "code",
      "source": [
        "import PIL\n",
        "transforms = torchvision.transforms.Compose([\n",
        "    torchvision.transforms.Resize((224,224)),\n",
        "    torchvision.transforms.ColorJitter(hue=.05, saturation=.05),\n",
        "    torchvision.transforms.RandomHorizontalFlip(),\n",
        "    torchvision.transforms.RandomRotation(degrees=(0, 90)),\n",
        "    torchvision.transforms.FiveCrop(size = (128,128))\n",
        "])"
      ],
      "metadata": {
        "id": "9sv-B2a32p2v"
      },
      "execution_count": null,
      "outputs": []
    },
    {
      "cell_type": "code",
      "source": [
        "# #tensor.shape\n",
        "# tensor = torch.Tensor(train_img[100])\n",
        "# #print(tensor.shape, tensor.permute(2,0,1).shape)\n",
        "\n",
        "# transformed = transforms(tensor.permute(2,0,1))\n",
        "# for i in range(5):\n",
        "#   plt.subplot(2,3,i+1)\n",
        "#   plt.imshow(transformed[i].permute(1,2,0))"
      ],
      "metadata": {
        "id": "S0THau0h4HxT"
      },
      "execution_count": null,
      "outputs": []
    },
    {
      "cell_type": "code",
      "source": [
        "# aug_frac = 0.2\n",
        "# aug_num = int(len(train_img) * aug_frac)\n",
        "\n",
        "# training_data = list()\n",
        "\n",
        "# for i in range(aug_num):\n",
        "#   augmented = transforms( torch.tensor(train_img[i]).permute(2,0,1)  )\n",
        "#   for image in augmented:\n",
        "#     training_data.append(image.permute(1,2,0).numpy())\n",
        "\n",
        "# for image in train_img[aug_num:]:\n",
        "#   training_data.append(image)"
      ],
      "metadata": {
        "id": "dkjjE-uK6lZ-"
      },
      "execution_count": null,
      "outputs": []
    },
    {
      "cell_type": "code",
      "source": [
        "#plt.imshow(training_data[5]*255)"
      ],
      "metadata": {
        "id": "-f20w8PoCVwG"
      },
      "execution_count": null,
      "outputs": []
    },
    {
      "cell_type": "markdown",
      "source": [
        "## Training Model"
      ],
      "metadata": {
        "id": "JSuS7ETxtp2O"
      }
    },
    {
      "cell_type": "code",
      "execution_count": null,
      "metadata": {
        "id": "joJJXsT5qhNN",
        "colab": {
          "base_uri": "https://localhost:8080/"
        },
        "outputId": "e5ee1a93-5bf9-4918-d9d7-8c5ab67f1004"
      },
      "outputs": [
        {
          "output_type": "stream",
          "name": "stderr",
          "text": [
            "Using cache found in /root/.cache/torch/hub/ultralytics_yolov3_master\n",
            "YOLOv3 🚀 2022-7-27 torch 1.12.0+cu113 CPU\n",
            "\n",
            "Fusing layers... \n",
            "Model Summary: 261 layers, 61922845 parameters, 0 gradients\n"
          ]
        }
      ],
      "source": [
        "# Model\n",
        "model = torch.hub.load('ultralytics/yolov3', 'yolov3', autoshape = False, pretrained=True)"
      ]
    },
    {
      "cell_type": "code",
      "source": [
        "# Images\n",
        "imgs = ['https://ultralytics.com/images/zidane.jpg']  # batch of images"
      ],
      "metadata": {
        "id": "HPRyGPOSquTj"
      },
      "execution_count": null,
      "outputs": []
    },
    {
      "cell_type": "code",
      "source": [
        "# Inference\n",
        "results = model(imgs)\n",
        "\n",
        "# Results\n",
        "results.print()\n",
        "results.save()  # or .show()\n",
        "\n",
        "results.xyxy[0]  # img1 predictions (tensor)"
      ],
      "metadata": {
        "id": "iZ3v7KOmrALi",
        "colab": {
          "base_uri": "https://localhost:8080/"
        },
        "outputId": "a59e96f2-0612-42b0-c6b0-207ad06907ff"
      },
      "execution_count": null,
      "outputs": [
        {
          "output_type": "stream",
          "name": "stderr",
          "text": [
            "/usr/local/lib/python3.7/dist-packages/torch/amp/autocast_mode.py:198: UserWarning: User provided device_type of 'cuda', but CUDA is not available. Disabling\n",
            "  warnings.warn('User provided device_type of \\'cuda\\', but CUDA is not available. Disabling')\n",
            "image 1/1: 720x1280 2 persons, 2 ties\n",
            "Speed: 293.4ms pre-process, 2571.6ms inference, 7.4ms NMS per image at shape (1, 3, 384, 640)\n",
            "Saved 1 image to \u001b[1mruns/detect/exp\u001b[0m\n"
          ]
        },
        {
          "output_type": "execute_result",
          "data": {
            "text/plain": [
              "tensor([[1.42960e+02, 2.00867e+02, 1.06258e+03, 7.15174e+02, 9.36926e-01, 0.00000e+00],\n",
              "        [7.43848e+02, 4.22316e+01, 1.12634e+03, 7.12396e+02, 9.16234e-01, 0.00000e+00],\n",
              "        [4.33421e+02, 4.33088e+02, 5.21299e+02, 7.16099e+02, 8.61753e-01, 2.70000e+01],\n",
              "        [9.90362e+02, 3.16880e+02, 1.02388e+03, 4.17993e+02, 3.32481e-01, 2.70000e+01]])"
            ]
          },
          "metadata": {},
          "execution_count": 22
        }
      ]
    }
  ]
}