{
  "nbformat": 4,
  "nbformat_minor": 0,
  "metadata": {
    "colab": {
      "name": "patch_trainer.ipynb",
      "provenance": [],
      "toc_visible": true,
      "authorship_tag": "ABX9TyPv1D9AjbwHYIs9AOX0Gl38",
      "include_colab_link": true
    },
    "kernelspec": {
      "name": "python3",
      "display_name": "Python 3"
    },
    "language_info": {
      "name": "python"
    },
    "gpuClass": "standard",
    "accelerator": "GPU",
    "widgets": {
      "application/vnd.jupyter.widget-state+json": {
        "6f18f012e1874e2792133ac2030c2c99": {
          "model_module": "@jupyter-widgets/controls",
          "model_name": "HBoxModel",
          "model_module_version": "1.5.0",
          "state": {
            "_dom_classes": [],
            "_model_module": "@jupyter-widgets/controls",
            "_model_module_version": "1.5.0",
            "_model_name": "HBoxModel",
            "_view_count": null,
            "_view_module": "@jupyter-widgets/controls",
            "_view_module_version": "1.5.0",
            "_view_name": "HBoxView",
            "box_style": "",
            "children": [
              "IPY_MODEL_38da8ec076b143cc92763dd0e5ac11bb",
              "IPY_MODEL_54329ccd5ec346fcb3afd1dcd8926443",
              "IPY_MODEL_a8868935058641a8a19092a5fd0a259f"
            ],
            "layout": "IPY_MODEL_f1c589e9b39c47a4ab1b3b9de8e0a989"
          }
        },
        "38da8ec076b143cc92763dd0e5ac11bb": {
          "model_module": "@jupyter-widgets/controls",
          "model_name": "HTMLModel",
          "model_module_version": "1.5.0",
          "state": {
            "_dom_classes": [],
            "_model_module": "@jupyter-widgets/controls",
            "_model_module_version": "1.5.0",
            "_model_name": "HTMLModel",
            "_view_count": null,
            "_view_module": "@jupyter-widgets/controls",
            "_view_module_version": "1.5.0",
            "_view_name": "HTMLView",
            "description": "",
            "description_tooltip": null,
            "layout": "IPY_MODEL_37d45a37869b46b7a550411d1170b88f",
            "placeholder": "​",
            "style": "IPY_MODEL_6a2afb96d7194b13a676308cd08af028",
            "value": "100%"
          }
        },
        "54329ccd5ec346fcb3afd1dcd8926443": {
          "model_module": "@jupyter-widgets/controls",
          "model_name": "FloatProgressModel",
          "model_module_version": "1.5.0",
          "state": {
            "_dom_classes": [],
            "_model_module": "@jupyter-widgets/controls",
            "_model_module_version": "1.5.0",
            "_model_name": "FloatProgressModel",
            "_view_count": null,
            "_view_module": "@jupyter-widgets/controls",
            "_view_module_version": "1.5.0",
            "_view_name": "ProgressView",
            "bar_style": "success",
            "description": "",
            "description_tooltip": null,
            "layout": "IPY_MODEL_d7010b538c5c457e89f4dcb73b282428",
            "max": 46830571,
            "min": 0,
            "orientation": "horizontal",
            "style": "IPY_MODEL_d88049e5a45844c6951000d6c5f1043d",
            "value": 46830571
          }
        },
        "a8868935058641a8a19092a5fd0a259f": {
          "model_module": "@jupyter-widgets/controls",
          "model_name": "HTMLModel",
          "model_module_version": "1.5.0",
          "state": {
            "_dom_classes": [],
            "_model_module": "@jupyter-widgets/controls",
            "_model_module_version": "1.5.0",
            "_model_name": "HTMLModel",
            "_view_count": null,
            "_view_module": "@jupyter-widgets/controls",
            "_view_module_version": "1.5.0",
            "_view_name": "HTMLView",
            "description": "",
            "description_tooltip": null,
            "layout": "IPY_MODEL_497e9e8908494553a361eab2e042cd52",
            "placeholder": "​",
            "style": "IPY_MODEL_a5f2cdf8e77a43228b9b03baf97046d1",
            "value": " 44.7M/44.7M [00:00&lt;00:00, 68.8MB/s]"
          }
        },
        "f1c589e9b39c47a4ab1b3b9de8e0a989": {
          "model_module": "@jupyter-widgets/base",
          "model_name": "LayoutModel",
          "model_module_version": "1.2.0",
          "state": {
            "_model_module": "@jupyter-widgets/base",
            "_model_module_version": "1.2.0",
            "_model_name": "LayoutModel",
            "_view_count": null,
            "_view_module": "@jupyter-widgets/base",
            "_view_module_version": "1.2.0",
            "_view_name": "LayoutView",
            "align_content": null,
            "align_items": null,
            "align_self": null,
            "border": null,
            "bottom": null,
            "display": null,
            "flex": null,
            "flex_flow": null,
            "grid_area": null,
            "grid_auto_columns": null,
            "grid_auto_flow": null,
            "grid_auto_rows": null,
            "grid_column": null,
            "grid_gap": null,
            "grid_row": null,
            "grid_template_areas": null,
            "grid_template_columns": null,
            "grid_template_rows": null,
            "height": null,
            "justify_content": null,
            "justify_items": null,
            "left": null,
            "margin": null,
            "max_height": null,
            "max_width": null,
            "min_height": null,
            "min_width": null,
            "object_fit": null,
            "object_position": null,
            "order": null,
            "overflow": null,
            "overflow_x": null,
            "overflow_y": null,
            "padding": null,
            "right": null,
            "top": null,
            "visibility": null,
            "width": null
          }
        },
        "37d45a37869b46b7a550411d1170b88f": {
          "model_module": "@jupyter-widgets/base",
          "model_name": "LayoutModel",
          "model_module_version": "1.2.0",
          "state": {
            "_model_module": "@jupyter-widgets/base",
            "_model_module_version": "1.2.0",
            "_model_name": "LayoutModel",
            "_view_count": null,
            "_view_module": "@jupyter-widgets/base",
            "_view_module_version": "1.2.0",
            "_view_name": "LayoutView",
            "align_content": null,
            "align_items": null,
            "align_self": null,
            "border": null,
            "bottom": null,
            "display": null,
            "flex": null,
            "flex_flow": null,
            "grid_area": null,
            "grid_auto_columns": null,
            "grid_auto_flow": null,
            "grid_auto_rows": null,
            "grid_column": null,
            "grid_gap": null,
            "grid_row": null,
            "grid_template_areas": null,
            "grid_template_columns": null,
            "grid_template_rows": null,
            "height": null,
            "justify_content": null,
            "justify_items": null,
            "left": null,
            "margin": null,
            "max_height": null,
            "max_width": null,
            "min_height": null,
            "min_width": null,
            "object_fit": null,
            "object_position": null,
            "order": null,
            "overflow": null,
            "overflow_x": null,
            "overflow_y": null,
            "padding": null,
            "right": null,
            "top": null,
            "visibility": null,
            "width": null
          }
        },
        "6a2afb96d7194b13a676308cd08af028": {
          "model_module": "@jupyter-widgets/controls",
          "model_name": "DescriptionStyleModel",
          "model_module_version": "1.5.0",
          "state": {
            "_model_module": "@jupyter-widgets/controls",
            "_model_module_version": "1.5.0",
            "_model_name": "DescriptionStyleModel",
            "_view_count": null,
            "_view_module": "@jupyter-widgets/base",
            "_view_module_version": "1.2.0",
            "_view_name": "StyleView",
            "description_width": ""
          }
        },
        "d7010b538c5c457e89f4dcb73b282428": {
          "model_module": "@jupyter-widgets/base",
          "model_name": "LayoutModel",
          "model_module_version": "1.2.0",
          "state": {
            "_model_module": "@jupyter-widgets/base",
            "_model_module_version": "1.2.0",
            "_model_name": "LayoutModel",
            "_view_count": null,
            "_view_module": "@jupyter-widgets/base",
            "_view_module_version": "1.2.0",
            "_view_name": "LayoutView",
            "align_content": null,
            "align_items": null,
            "align_self": null,
            "border": null,
            "bottom": null,
            "display": null,
            "flex": null,
            "flex_flow": null,
            "grid_area": null,
            "grid_auto_columns": null,
            "grid_auto_flow": null,
            "grid_auto_rows": null,
            "grid_column": null,
            "grid_gap": null,
            "grid_row": null,
            "grid_template_areas": null,
            "grid_template_columns": null,
            "grid_template_rows": null,
            "height": null,
            "justify_content": null,
            "justify_items": null,
            "left": null,
            "margin": null,
            "max_height": null,
            "max_width": null,
            "min_height": null,
            "min_width": null,
            "object_fit": null,
            "object_position": null,
            "order": null,
            "overflow": null,
            "overflow_x": null,
            "overflow_y": null,
            "padding": null,
            "right": null,
            "top": null,
            "visibility": null,
            "width": null
          }
        },
        "d88049e5a45844c6951000d6c5f1043d": {
          "model_module": "@jupyter-widgets/controls",
          "model_name": "ProgressStyleModel",
          "model_module_version": "1.5.0",
          "state": {
            "_model_module": "@jupyter-widgets/controls",
            "_model_module_version": "1.5.0",
            "_model_name": "ProgressStyleModel",
            "_view_count": null,
            "_view_module": "@jupyter-widgets/base",
            "_view_module_version": "1.2.0",
            "_view_name": "StyleView",
            "bar_color": null,
            "description_width": ""
          }
        },
        "497e9e8908494553a361eab2e042cd52": {
          "model_module": "@jupyter-widgets/base",
          "model_name": "LayoutModel",
          "model_module_version": "1.2.0",
          "state": {
            "_model_module": "@jupyter-widgets/base",
            "_model_module_version": "1.2.0",
            "_model_name": "LayoutModel",
            "_view_count": null,
            "_view_module": "@jupyter-widgets/base",
            "_view_module_version": "1.2.0",
            "_view_name": "LayoutView",
            "align_content": null,
            "align_items": null,
            "align_self": null,
            "border": null,
            "bottom": null,
            "display": null,
            "flex": null,
            "flex_flow": null,
            "grid_area": null,
            "grid_auto_columns": null,
            "grid_auto_flow": null,
            "grid_auto_rows": null,
            "grid_column": null,
            "grid_gap": null,
            "grid_row": null,
            "grid_template_areas": null,
            "grid_template_columns": null,
            "grid_template_rows": null,
            "height": null,
            "justify_content": null,
            "justify_items": null,
            "left": null,
            "margin": null,
            "max_height": null,
            "max_width": null,
            "min_height": null,
            "min_width": null,
            "object_fit": null,
            "object_position": null,
            "order": null,
            "overflow": null,
            "overflow_x": null,
            "overflow_y": null,
            "padding": null,
            "right": null,
            "top": null,
            "visibility": null,
            "width": null
          }
        },
        "a5f2cdf8e77a43228b9b03baf97046d1": {
          "model_module": "@jupyter-widgets/controls",
          "model_name": "DescriptionStyleModel",
          "model_module_version": "1.5.0",
          "state": {
            "_model_module": "@jupyter-widgets/controls",
            "_model_module_version": "1.5.0",
            "_model_name": "DescriptionStyleModel",
            "_view_count": null,
            "_view_module": "@jupyter-widgets/base",
            "_view_module_version": "1.2.0",
            "_view_name": "StyleView",
            "description_width": ""
          }
        },
        "7672cf7bc0ae43b190975c774a647168": {
          "model_module": "@jupyter-widgets/controls",
          "model_name": "VBoxModel",
          "model_module_version": "1.5.0",
          "state": {
            "_dom_classes": [
              "widget-interact"
            ],
            "_model_module": "@jupyter-widgets/controls",
            "_model_module_version": "1.5.0",
            "_model_name": "VBoxModel",
            "_view_count": null,
            "_view_module": "@jupyter-widgets/controls",
            "_view_module_version": "1.5.0",
            "_view_name": "VBoxView",
            "box_style": "",
            "children": [
              "IPY_MODEL_b79af7a0f69045c7adf5fc3e9391183e",
              "IPY_MODEL_2b61a42926ac498980c6f6417f136b39",
              "IPY_MODEL_0129d263a7aa40b6be4dfac283612a76"
            ],
            "layout": "IPY_MODEL_0283ad0c9c4046fead3597b43cc4d678"
          }
        },
        "b79af7a0f69045c7adf5fc3e9391183e": {
          "model_module": "@jupyter-widgets/controls",
          "model_name": "IntSliderModel",
          "model_module_version": "1.5.0",
          "state": {
            "_dom_classes": [],
            "_model_module": "@jupyter-widgets/controls",
            "_model_module_version": "1.5.0",
            "_model_name": "IntSliderModel",
            "_view_count": null,
            "_view_module": "@jupyter-widgets/controls",
            "_view_module_version": "1.5.0",
            "_view_name": "IntSliderView",
            "continuous_update": true,
            "description": "phase",
            "description_tooltip": null,
            "disabled": false,
            "layout": "IPY_MODEL_2a540c33139149aa9308a12d0b473064",
            "max": 1,
            "min": 0,
            "orientation": "horizontal",
            "readout": true,
            "readout_format": "d",
            "step": 1,
            "style": "IPY_MODEL_3f0d8002e29747b6a953dfdd2faf1ca6",
            "value": 0
          }
        },
        "2b61a42926ac498980c6f6417f136b39": {
          "model_module": "@jupyter-widgets/controls",
          "model_name": "IntSliderModel",
          "model_module_version": "1.5.0",
          "state": {
            "_dom_classes": [],
            "_model_module": "@jupyter-widgets/controls",
            "_model_module_version": "1.5.0",
            "_model_name": "IntSliderModel",
            "_view_count": null,
            "_view_module": "@jupyter-widgets/controls",
            "_view_module_version": "1.5.0",
            "_view_name": "IntSliderView",
            "continuous_update": true,
            "description": "img_id",
            "description_tooltip": null,
            "disabled": false,
            "layout": "IPY_MODEL_47039743048a4a1c9f08e50a9be0fa80",
            "max": 683,
            "min": 0,
            "orientation": "horizontal",
            "readout": true,
            "readout_format": "d",
            "step": 1,
            "style": "IPY_MODEL_bff68a2119f34a02a0d3d26dc9fd1166",
            "value": 419
          }
        },
        "0129d263a7aa40b6be4dfac283612a76": {
          "model_module": "@jupyter-widgets/output",
          "model_name": "OutputModel",
          "model_module_version": "1.0.0",
          "state": {
            "_dom_classes": [],
            "_model_module": "@jupyter-widgets/output",
            "_model_module_version": "1.0.0",
            "_model_name": "OutputModel",
            "_view_count": null,
            "_view_module": "@jupyter-widgets/output",
            "_view_module_version": "1.0.0",
            "_view_name": "OutputView",
            "layout": "IPY_MODEL_e9ef4d37a12c4d49a2beffd6935344dc",
            "msg_id": "",
            "outputs": [
              {
                "output_type": "stream",
                "name": "stderr",
                "text": [
                  "WARNING:matplotlib.image:Clipping input data to the valid range for imshow with RGB data ([0..1] for floats or [0..255] for integers).\n"
                ]
              },
              {
                "output_type": "stream",
                "name": "stdout",
                "text": [
                  "ground truth class:  nut\n",
                  "prediction:  nut   [[-5.7286515  4.880419 ]]\n"
                ]
              },
              {
                "output_type": "display_data",
                "data": {
                  "text/plain": "<Figure size 432x288 with 1 Axes>",
                  "image/png": "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\n"
                },
                "metadata": {
                  "needs_background": "light"
                }
              }
            ]
          }
        },
        "0283ad0c9c4046fead3597b43cc4d678": {
          "model_module": "@jupyter-widgets/base",
          "model_name": "LayoutModel",
          "model_module_version": "1.2.0",
          "state": {
            "_model_module": "@jupyter-widgets/base",
            "_model_module_version": "1.2.0",
            "_model_name": "LayoutModel",
            "_view_count": null,
            "_view_module": "@jupyter-widgets/base",
            "_view_module_version": "1.2.0",
            "_view_name": "LayoutView",
            "align_content": null,
            "align_items": null,
            "align_self": null,
            "border": null,
            "bottom": null,
            "display": null,
            "flex": null,
            "flex_flow": null,
            "grid_area": null,
            "grid_auto_columns": null,
            "grid_auto_flow": null,
            "grid_auto_rows": null,
            "grid_column": null,
            "grid_gap": null,
            "grid_row": null,
            "grid_template_areas": null,
            "grid_template_columns": null,
            "grid_template_rows": null,
            "height": null,
            "justify_content": null,
            "justify_items": null,
            "left": null,
            "margin": null,
            "max_height": null,
            "max_width": null,
            "min_height": null,
            "min_width": null,
            "object_fit": null,
            "object_position": null,
            "order": null,
            "overflow": null,
            "overflow_x": null,
            "overflow_y": null,
            "padding": null,
            "right": null,
            "top": null,
            "visibility": null,
            "width": null
          }
        },
        "2a540c33139149aa9308a12d0b473064": {
          "model_module": "@jupyter-widgets/base",
          "model_name": "LayoutModel",
          "model_module_version": "1.2.0",
          "state": {
            "_model_module": "@jupyter-widgets/base",
            "_model_module_version": "1.2.0",
            "_model_name": "LayoutModel",
            "_view_count": null,
            "_view_module": "@jupyter-widgets/base",
            "_view_module_version": "1.2.0",
            "_view_name": "LayoutView",
            "align_content": null,
            "align_items": null,
            "align_self": null,
            "border": null,
            "bottom": null,
            "display": null,
            "flex": null,
            "flex_flow": null,
            "grid_area": null,
            "grid_auto_columns": null,
            "grid_auto_flow": null,
            "grid_auto_rows": null,
            "grid_column": null,
            "grid_gap": null,
            "grid_row": null,
            "grid_template_areas": null,
            "grid_template_columns": null,
            "grid_template_rows": null,
            "height": null,
            "justify_content": null,
            "justify_items": null,
            "left": null,
            "margin": null,
            "max_height": null,
            "max_width": null,
            "min_height": null,
            "min_width": null,
            "object_fit": null,
            "object_position": null,
            "order": null,
            "overflow": null,
            "overflow_x": null,
            "overflow_y": null,
            "padding": null,
            "right": null,
            "top": null,
            "visibility": null,
            "width": null
          }
        },
        "3f0d8002e29747b6a953dfdd2faf1ca6": {
          "model_module": "@jupyter-widgets/controls",
          "model_name": "SliderStyleModel",
          "model_module_version": "1.5.0",
          "state": {
            "_model_module": "@jupyter-widgets/controls",
            "_model_module_version": "1.5.0",
            "_model_name": "SliderStyleModel",
            "_view_count": null,
            "_view_module": "@jupyter-widgets/base",
            "_view_module_version": "1.2.0",
            "_view_name": "StyleView",
            "description_width": "",
            "handle_color": null
          }
        },
        "47039743048a4a1c9f08e50a9be0fa80": {
          "model_module": "@jupyter-widgets/base",
          "model_name": "LayoutModel",
          "model_module_version": "1.2.0",
          "state": {
            "_model_module": "@jupyter-widgets/base",
            "_model_module_version": "1.2.0",
            "_model_name": "LayoutModel",
            "_view_count": null,
            "_view_module": "@jupyter-widgets/base",
            "_view_module_version": "1.2.0",
            "_view_name": "LayoutView",
            "align_content": null,
            "align_items": null,
            "align_self": null,
            "border": null,
            "bottom": null,
            "display": null,
            "flex": null,
            "flex_flow": null,
            "grid_area": null,
            "grid_auto_columns": null,
            "grid_auto_flow": null,
            "grid_auto_rows": null,
            "grid_column": null,
            "grid_gap": null,
            "grid_row": null,
            "grid_template_areas": null,
            "grid_template_columns": null,
            "grid_template_rows": null,
            "height": null,
            "justify_content": null,
            "justify_items": null,
            "left": null,
            "margin": null,
            "max_height": null,
            "max_width": null,
            "min_height": null,
            "min_width": null,
            "object_fit": null,
            "object_position": null,
            "order": null,
            "overflow": null,
            "overflow_x": null,
            "overflow_y": null,
            "padding": null,
            "right": null,
            "top": null,
            "visibility": null,
            "width": null
          }
        },
        "bff68a2119f34a02a0d3d26dc9fd1166": {
          "model_module": "@jupyter-widgets/controls",
          "model_name": "SliderStyleModel",
          "model_module_version": "1.5.0",
          "state": {
            "_model_module": "@jupyter-widgets/controls",
            "_model_module_version": "1.5.0",
            "_model_name": "SliderStyleModel",
            "_view_count": null,
            "_view_module": "@jupyter-widgets/base",
            "_view_module_version": "1.2.0",
            "_view_name": "StyleView",
            "description_width": "",
            "handle_color": null
          }
        },
        "e9ef4d37a12c4d49a2beffd6935344dc": {
          "model_module": "@jupyter-widgets/base",
          "model_name": "LayoutModel",
          "model_module_version": "1.2.0",
          "state": {
            "_model_module": "@jupyter-widgets/base",
            "_model_module_version": "1.2.0",
            "_model_name": "LayoutModel",
            "_view_count": null,
            "_view_module": "@jupyter-widgets/base",
            "_view_module_version": "1.2.0",
            "_view_name": "LayoutView",
            "align_content": null,
            "align_items": null,
            "align_self": null,
            "border": null,
            "bottom": null,
            "display": null,
            "flex": null,
            "flex_flow": null,
            "grid_area": null,
            "grid_auto_columns": null,
            "grid_auto_flow": null,
            "grid_auto_rows": null,
            "grid_column": null,
            "grid_gap": null,
            "grid_row": null,
            "grid_template_areas": null,
            "grid_template_columns": null,
            "grid_template_rows": null,
            "height": null,
            "justify_content": null,
            "justify_items": null,
            "left": null,
            "margin": null,
            "max_height": null,
            "max_width": null,
            "min_height": null,
            "min_width": null,
            "object_fit": null,
            "object_position": null,
            "order": null,
            "overflow": null,
            "overflow_x": null,
            "overflow_y": null,
            "padding": null,
            "right": null,
            "top": null,
            "visibility": null,
            "width": null
          }
        }
      }
    }
  },
  "cells": [
    {
      "cell_type": "markdown",
      "metadata": {
        "id": "view-in-github",
        "colab_type": "text"
      },
      "source": [
        "<a href=\"https://colab.research.google.com/github/tanmayyb/ml-custom-object-detection/blob/main/patch_trainer.ipynb\" target=\"_parent\"><img src=\"https://colab.research.google.com/assets/colab-badge.svg\" alt=\"Open In Colab\"/></a>"
      ]
    },
    {
      "cell_type": "markdown",
      "source": [
        "# Resnet Patch Classifier"
      ],
      "metadata": {
        "id": "nnIJqbe37Icl"
      }
    },
    {
      "cell_type": "markdown",
      "source": [
        "# Data Loading and Basic Functions"
      ],
      "metadata": {
        "id": "8o_j4DQ6tjHG"
      }
    },
    {
      "cell_type": "code",
      "source": [
        "import os\n",
        "import requests\n",
        "import random\n",
        "import json\n",
        "import numpy as np\n",
        "from skimage import io\n",
        "from scipy import ndimage\n",
        "from shapely.geometry import Point\n",
        "from shapely.geometry.polygon import Polygon\n",
        "\n",
        "import torch\n",
        "from torch import nn\n",
        "import torch.optim as optim\n",
        "from torchsummary import summary\n",
        "import torchvision\n",
        "import torchvision.transforms as transforms\n",
        "\n",
        "import matplotlib.pyplot as plt\n",
        "from matplotlib import pyplot as plt\n",
        "from matplotlib import rcParams, gridspec\n",
        "from matplotlib import patches, transforms as plt_transforms\n",
        "\n",
        "import pickle\n",
        "import cv2\n",
        "\n",
        "rcParams['figure.figsize'] = [16, 6]\n",
        "rcParams['font.size'] =14\n",
        "rcParams['axes.spines.top'] = False\n",
        "rcParams['axes.spines.right'] = False\n",
        "rcParams['figure.autolayout'] = True"
      ],
      "metadata": {
        "id": "Nvoipgp3sNyT"
      },
      "execution_count": 1,
      "outputs": []
    },
    {
      "cell_type": "code",
      "source": [
        "from __future__ import print_function \n",
        "from __future__ import division\n",
        "import torch\n",
        "import torch.nn as nn\n",
        "import torch.optim as optim\n",
        "import numpy as np\n",
        "import torchvision\n",
        "from torchvision import datasets, models, transforms\n",
        "import matplotlib.pyplot as plt\n",
        "import time\n",
        "import os\n",
        "import copy\n",
        "print(\"PyTorch Version: \",torch.__version__)\n",
        "print(\"Torchvision Version: \",torchvision.__version__)"
      ],
      "metadata": {
        "colab": {
          "base_uri": "https://localhost:8080/"
        },
        "id": "9LXg9AqgBRCh",
        "outputId": "eb2d3830-9878-4168-a928-64b3ac20047e"
      },
      "execution_count": 2,
      "outputs": [
        {
          "output_type": "stream",
          "name": "stdout",
          "text": [
            "PyTorch Version:  1.12.0+cu113\n",
            "Torchvision Version:  0.13.0+cu113\n"
          ]
        }
      ]
    },
    {
      "cell_type": "code",
      "source": [
        "# @title Set random seed\n",
        "\n",
        "# @markdown Executing `set_seed(seed=seed)` you are setting the seed\n",
        "\n",
        "# For DL its critical to set the random seed so that students can have a\n",
        "# baseline to compare their results to expected results.\n",
        "# Read more here: https://pytorch.org/docs/stable/notes/randomness.html\n",
        "\n",
        "# Call `set_seed` function in the exercises to ensure reproducibility.\n",
        "import random\n",
        "import torch\n",
        "\n",
        "def set_seed(seed=None, seed_torch=True):\n",
        "  \"\"\"\n",
        "  Function that controls randomness. NumPy and random modules must be imported.\n",
        "\n",
        "  Args:\n",
        "    seed : Integer\n",
        "      A non-negative integer that defines the random state. Default is `None`.\n",
        "    seed_torch : Boolean\n",
        "      If `True` sets the random seed for pytorch tensors, so pytorch module\n",
        "      must be imported. Default is `True`.\n",
        "\n",
        "  Returns:\n",
        "    Nothing.\n",
        "  \"\"\"\n",
        "  if seed is None:\n",
        "    seed = np.random.choice(2 ** 32)\n",
        "  random.seed(seed)\n",
        "  np.random.seed(seed)\n",
        "  if seed_torch:\n",
        "    torch.manual_seed(seed)\n",
        "    torch.cuda.manual_seed_all(seed)\n",
        "    torch.cuda.manual_seed(seed)\n",
        "    torch.backends.cudnn.benchmark = False\n",
        "    torch.backends.cudnn.deterministic = True\n",
        "\n",
        "  print(f'Random seed {seed} has been set.')\n",
        "\n",
        "\n",
        "# In case that `DataLoader` is used\n",
        "def seed_worker(worker_id):\n",
        "  \"\"\"\n",
        "  DataLoader will reseed workers following randomness in\n",
        "  multi-process data loading algorithm.\n",
        "\n",
        "  Args:\n",
        "    worker_id: integer\n",
        "      ID of subprocess to seed. 0 means that\n",
        "      the data will be loaded in the main process\n",
        "      Refer: https://pytorch.org/docs/stable/data.html#data-loading-randomness for more details\n",
        "\n",
        "  Returns:\n",
        "    Nothing\n",
        "  \"\"\"\n",
        "  worker_seed = torch.initial_seed() % 2**32\n",
        "  np.random.seed(worker_seed)\n",
        "  random.seed(worker_seed)"
      ],
      "metadata": {
        "cellView": "form",
        "id": "lz3SZHm6AaXV"
      },
      "execution_count": 3,
      "outputs": []
    },
    {
      "cell_type": "code",
      "source": [
        "# @title Set device (GPU or CPU). Execute `set_device()`\n",
        "# especially if torch modules used.\n",
        "\n",
        "# Inform the user if the notebook uses GPU or CPU.\n",
        "\n",
        "def set_device():\n",
        "  \"\"\"\n",
        "  Set the device. CUDA if available, CPU otherwise\n",
        "\n",
        "  Args:\n",
        "    None\n",
        "\n",
        "  Returns:\n",
        "    Nothing\n",
        "  \"\"\"\n",
        "  device = \"cuda\" if torch.cuda.is_available() else \"cpu\"\n",
        "  if device != \"cuda\":\n",
        "    print(\"WARNING: For this notebook to perform best, \"\n",
        "        \"if possible, in the menu under `Runtime` -> \"\n",
        "        \"`Change runtime type.`  select `GPU` \")\n",
        "  else:\n",
        "    print(\"GPU is enabled in this notebook.\")\n",
        "\n",
        "  return device"
      ],
      "metadata": {
        "cellView": "form",
        "id": "iVCpcgU3AUYN"
      },
      "execution_count": 4,
      "outputs": []
    },
    {
      "cell_type": "code",
      "source": [
        "SEED = 2021\n",
        "set_seed(seed=SEED)\n",
        "DEVICE = set_device()"
      ],
      "metadata": {
        "colab": {
          "base_uri": "https://localhost:8080/"
        },
        "id": "sN0uVWInAWnY",
        "outputId": "5f36e820-7406-41ce-92ed-716addc7e482"
      },
      "execution_count": 5,
      "outputs": [
        {
          "output_type": "stream",
          "name": "stdout",
          "text": [
            "Random seed 2021 has been set.\n",
            "GPU is enabled in this notebook.\n"
          ]
        }
      ]
    },
    {
      "cell_type": "code",
      "source": [
        "import warnings\n",
        "def fxn():\n",
        "    warnings.warn(\"deprecated\", DeprecationWarning)"
      ],
      "metadata": {
        "id": "7t4gN8RpsWzf"
      },
      "execution_count": 6,
      "outputs": []
    },
    {
      "cell_type": "code",
      "source": [
        "from google.colab import drive\n",
        "drive.mount('/content/gdrive/')"
      ],
      "metadata": {
        "id": "vKtWRvzWsZma",
        "outputId": "0d866710-e7f3-4e13-e124-ee145e8f8531",
        "colab": {
          "base_uri": "https://localhost:8080/"
        }
      },
      "execution_count": 7,
      "outputs": [
        {
          "output_type": "stream",
          "name": "stdout",
          "text": [
            "Mounted at /content/gdrive/\n"
          ]
        }
      ]
    },
    {
      "cell_type": "code",
      "source": [
        "# @title Choose device\n",
        "def set_device():\n",
        "  device = \"cuda\" if torch.cuda.is_available() else \"cpu\"\n",
        "  if device != \"cuda\":\n",
        "    print(\"GPU is not enabled in this notebook. \\n\"\n",
        "          \"If you want to enable it, in the menu under `Runtime` -> \\n\"\n",
        "          \"`Hardware accelerator.` and select `GPU` from the dropdown menu\")\n",
        "  else:\n",
        "    print(\"GPU is enabled in this notebook. \\n\"\n",
        "          \"If you want to disable it, in the menu under `Runtime` -> \\n\"\n",
        "          \"`Hardware accelerator.` and select `None` from the dropdown menu\")\n",
        "\n",
        "  return device"
      ],
      "metadata": {
        "cellView": "form",
        "id": "TNp2F1nHsSMp"
      },
      "execution_count": 8,
      "outputs": []
    },
    {
      "cell_type": "code",
      "source": [
        "device = set_device()"
      ],
      "metadata": {
        "id": "VtSR80ACsU63",
        "outputId": "ee5c4249-f6f4-4e7f-becf-b7534ab20786",
        "colab": {
          "base_uri": "https://localhost:8080/"
        }
      },
      "execution_count": 9,
      "outputs": [
        {
          "output_type": "stream",
          "name": "stdout",
          "text": [
            "GPU is enabled in this notebook. \n",
            "If you want to disable it, in the menu under `Runtime` -> \n",
            "`Hardware accelerator.` and select `None` from the dropdown menu\n"
          ]
        }
      ]
    },
    {
      "cell_type": "markdown",
      "source": [
        "# Helper Funtions"
      ],
      "metadata": {
        "id": "aytkVYpLIibU"
      }
    },
    {
      "cell_type": "code",
      "source": [
        "def train_model(model, dataloaders, criterion, optimizer, num_epochs=25, is_inception=False):\n",
        "    since = time.time()\n",
        "\n",
        "    val_acc_history = []\n",
        "    \n",
        "    best_model_wts = copy.deepcopy(model.state_dict())\n",
        "    best_acc = 0.0\n",
        "\n",
        "    for epoch in range(num_epochs):\n",
        "        print('Epoch {}/{}'.format(epoch, num_epochs - 1))\n",
        "        print('-' * 10)\n",
        "\n",
        "        # Each epoch has a training and validation phase\n",
        "        for phase in ['train', 'val']:\n",
        "            if phase == 'train':\n",
        "                model.train()  # Set model to training mode\n",
        "            else:\n",
        "                model.eval()   # Set model to evaluate mode\n",
        "\n",
        "            running_loss = 0.0\n",
        "            running_corrects = 0\n",
        "\n",
        "            # Iterate over data.\n",
        "            for inputs, labels in dataloaders[phase]:\n",
        "                inputs = inputs.to(device)\n",
        "                labels = labels.to(device)\n",
        "\n",
        "                # zero the parameter gradients\n",
        "                optimizer.zero_grad()\n",
        "\n",
        "                # forward\n",
        "                # track history if only in train\n",
        "                with torch.set_grad_enabled(phase == 'train'):\n",
        "                    # Get model outputs and calculate loss\n",
        "                    # Special case for inception because in training it has an auxiliary output. In train\n",
        "                    #   mode we calculate the loss by summing the final output and the auxiliary output\n",
        "                    #   but in testing we only consider the final output.\n",
        "                    if is_inception and phase == 'train':\n",
        "                        # From https://discuss.pytorch.org/t/how-to-optimize-inception-model-with-auxiliary-classifiers/7958\n",
        "                        outputs, aux_outputs = model(inputs)\n",
        "                        loss1 = criterion(outputs, labels)\n",
        "                        loss2 = criterion(aux_outputs, labels)\n",
        "                        loss = loss1 + 0.4*loss2\n",
        "                    else:\n",
        "                        outputs = model(inputs)\n",
        "                        loss = criterion(outputs, labels)\n",
        "\n",
        "                    _, preds = torch.max(outputs, 1)\n",
        "\n",
        "                    # backward + optimize only if in training phase\n",
        "                    if phase == 'train':\n",
        "                        loss.backward()\n",
        "                        optimizer.step()\n",
        "\n",
        "                # statistics\n",
        "                running_loss += loss.item() * inputs.size(0)\n",
        "                running_corrects += torch.sum(preds == labels.data)\n",
        "\n",
        "            epoch_loss = running_loss / len(dataloaders[phase].dataset)\n",
        "            epoch_acc = running_corrects.double() / len(dataloaders[phase].dataset)\n",
        "\n",
        "            print('{} Loss: {:.4f} Acc: {:.4f}'.format(phase, epoch_loss, epoch_acc))\n",
        "\n",
        "            # deep copy the model\n",
        "            if phase == 'val' and epoch_acc > best_acc:\n",
        "                best_acc = epoch_acc\n",
        "                best_model_wts = copy.deepcopy(model.state_dict())\n",
        "            if phase == 'val':\n",
        "                val_acc_history.append(epoch_acc)\n",
        "\n",
        "        print()\n",
        "\n",
        "    time_elapsed = time.time() - since\n",
        "    print('Training complete in {:.0f}m {:.0f}s'.format(time_elapsed // 60, time_elapsed % 60))\n",
        "    print('Best val Acc: {:4f}'.format(best_acc))\n",
        "\n",
        "    # load best model weights\n",
        "    model.load_state_dict(best_model_wts)\n",
        "    return model, val_acc_history"
      ],
      "metadata": {
        "id": "EfEzLC7wHWWH"
      },
      "execution_count": 10,
      "outputs": []
    },
    {
      "cell_type": "code",
      "source": [
        "def set_parameter_requires_grad(model, feature_extracting):\n",
        "    if feature_extracting:\n",
        "        for param in model.parameters():\n",
        "            param.requires_grad = False"
      ],
      "metadata": {
        "id": "2PeA94H-IvYM"
      },
      "execution_count": 11,
      "outputs": []
    },
    {
      "cell_type": "markdown",
      "source": [
        "# Initialise and Reshape Network"
      ],
      "metadata": {
        "id": "Z_XyNfy8I_BN"
      }
    },
    {
      "cell_type": "code",
      "source": [
        "data_dir = 'My Drive/screw_dataset/nut_patch_model/data/'\n",
        "\n",
        "# Models to choose from [resnet, alexnet, vgg, squeezenet, densenet, inception]\n",
        "model_name = \"resnet\"\n",
        "\n",
        "# Number of classes in the dataset\n",
        "num_classes = 2\n",
        "\n",
        "# Batch size for training (change depending on how much memory you have)\n",
        "batch_size = 8\n",
        "\n",
        "# Number of epochs to train for \n",
        "num_epochs = 15\n",
        "\n",
        "\n",
        "# Flag for feature extracting. When False, we finetune the whole model, \n",
        "#   when True we only update the reshaped layer params\n",
        "feature_extract = True"
      ],
      "metadata": {
        "id": "eIsg3Kg6EQWI"
      },
      "execution_count": 12,
      "outputs": []
    },
    {
      "cell_type": "code",
      "source": [
        "def initialize_model(model_name, num_classes, feature_extract, use_pretrained=True):\n",
        "    # Initialize these variables which will be set in this if statement. Each of these\n",
        "    #   variables is model specific.\n",
        "    model_ft = None\n",
        "    input_size = 0\n",
        "\n",
        "    if model_name == \"resnet\":\n",
        "        \"\"\" Resnet18\n",
        "        \"\"\"\n",
        "        model_ft = models.resnet18(pretrained=use_pretrained)\n",
        "        set_parameter_requires_grad(model_ft, feature_extract)\n",
        "        num_ftrs = model_ft.fc.in_features\n",
        "        model_ft.fc = nn.Linear(num_ftrs, num_classes)\n",
        "        input_size = 224\n",
        "\n",
        "    elif model_name == \"alexnet\":\n",
        "        \"\"\" Alexnet\n",
        "        \"\"\"\n",
        "        model_ft = models.alexnet(pretrained=use_pretrained)\n",
        "        set_parameter_requires_grad(model_ft, feature_extract)\n",
        "        num_ftrs = model_ft.classifier[6].in_features\n",
        "        model_ft.classifier[6] = nn.Linear(num_ftrs,num_classes)\n",
        "        input_size = 224\n",
        "\n",
        "    elif model_name == \"vgg\":\n",
        "        \"\"\" VGG11_bn\n",
        "        \"\"\"\n",
        "        model_ft = models.vgg11_bn(pretrained=use_pretrained)\n",
        "        set_parameter_requires_grad(model_ft, feature_extract)\n",
        "        num_ftrs = model_ft.classifier[6].in_features\n",
        "        model_ft.classifier[6] = nn.Linear(num_ftrs,num_classes)\n",
        "        input_size = 224\n",
        "\n",
        "    elif model_name == \"squeezenet\":\n",
        "        \"\"\" Squeezenet\n",
        "        \"\"\"\n",
        "        model_ft = models.squeezenet1_0(pretrained=use_pretrained)\n",
        "        set_parameter_requires_grad(model_ft, feature_extract)\n",
        "        model_ft.classifier[1] = nn.Conv2d(512, num_classes, kernel_size=(1,1), stride=(1,1))\n",
        "        model_ft.num_classes = num_classes\n",
        "        input_size = 224\n",
        "\n",
        "    elif model_name == \"densenet\":\n",
        "        \"\"\" Densenet\n",
        "        \"\"\"\n",
        "        model_ft = models.densenet121(pretrained=use_pretrained)\n",
        "        set_parameter_requires_grad(model_ft, feature_extract)\n",
        "        num_ftrs = model_ft.classifier.in_features\n",
        "        model_ft.classifier = nn.Linear(num_ftrs, num_classes) \n",
        "        input_size = 224\n",
        "\n",
        "    elif model_name == \"inception\":\n",
        "        \"\"\" Inception v3 \n",
        "        Be careful, expects (299,299) sized images and has auxiliary output\n",
        "        \"\"\"\n",
        "        model_ft = models.inception_v3(pretrained=use_pretrained)\n",
        "        set_parameter_requires_grad(model_ft, feature_extract)\n",
        "        # Handle the auxilary net\n",
        "        num_ftrs = model_ft.AuxLogits.fc.in_features\n",
        "        model_ft.AuxLogits.fc = nn.Linear(num_ftrs, num_classes)\n",
        "        # Handle the primary net\n",
        "        num_ftrs = model_ft.fc.in_features\n",
        "        model_ft.fc = nn.Linear(num_ftrs,num_classes)\n",
        "        input_size = 299\n",
        "\n",
        "    else:\n",
        "        print(\"Invalid model name, exiting...\")\n",
        "        exit()\n",
        "    \n",
        "    return model_ft, input_size\n",
        "\n",
        "# Initialize the model for this run\n",
        "model_ft, input_size = initialize_model(model_name, num_classes, feature_extract, use_pretrained=True)\n",
        "\n",
        "# Print the model we just instantiated\n",
        "print(model_ft)"
      ],
      "metadata": {
        "id": "30nzE2lgJDI_",
        "colab": {
          "base_uri": "https://localhost:8080/",
          "height": 1000,
          "referenced_widgets": [
            "6f18f012e1874e2792133ac2030c2c99",
            "38da8ec076b143cc92763dd0e5ac11bb",
            "54329ccd5ec346fcb3afd1dcd8926443",
            "a8868935058641a8a19092a5fd0a259f",
            "f1c589e9b39c47a4ab1b3b9de8e0a989",
            "37d45a37869b46b7a550411d1170b88f",
            "6a2afb96d7194b13a676308cd08af028",
            "d7010b538c5c457e89f4dcb73b282428",
            "d88049e5a45844c6951000d6c5f1043d",
            "497e9e8908494553a361eab2e042cd52",
            "a5f2cdf8e77a43228b9b03baf97046d1"
          ]
        },
        "outputId": "22387b30-2f45-4d4e-a84f-59ee3b00856b"
      },
      "execution_count": 13,
      "outputs": [
        {
          "output_type": "stream",
          "name": "stderr",
          "text": [
            "/usr/local/lib/python3.7/dist-packages/torchvision/models/_utils.py:209: UserWarning: The parameter 'pretrained' is deprecated since 0.13 and will be removed in 0.15, please use 'weights' instead.\n",
            "  f\"The parameter '{pretrained_param}' is deprecated since 0.13 and will be removed in 0.15, \"\n",
            "/usr/local/lib/python3.7/dist-packages/torchvision/models/_utils.py:223: UserWarning: Arguments other than a weight enum or `None` for 'weights' are deprecated since 0.13 and will be removed in 0.15. The current behavior is equivalent to passing `weights=ResNet18_Weights.IMAGENET1K_V1`. You can also use `weights=ResNet18_Weights.DEFAULT` to get the most up-to-date weights.\n",
            "  warnings.warn(msg)\n",
            "Downloading: \"https://download.pytorch.org/models/resnet18-f37072fd.pth\" to /root/.cache/torch/hub/checkpoints/resnet18-f37072fd.pth\n"
          ]
        },
        {
          "output_type": "display_data",
          "data": {
            "text/plain": [
              "  0%|          | 0.00/44.7M [00:00<?, ?B/s]"
            ],
            "application/vnd.jupyter.widget-view+json": {
              "version_major": 2,
              "version_minor": 0,
              "model_id": "6f18f012e1874e2792133ac2030c2c99"
            }
          },
          "metadata": {}
        },
        {
          "output_type": "stream",
          "name": "stdout",
          "text": [
            "ResNet(\n",
            "  (conv1): Conv2d(3, 64, kernel_size=(7, 7), stride=(2, 2), padding=(3, 3), bias=False)\n",
            "  (bn1): BatchNorm2d(64, eps=1e-05, momentum=0.1, affine=True, track_running_stats=True)\n",
            "  (relu): ReLU(inplace=True)\n",
            "  (maxpool): MaxPool2d(kernel_size=3, stride=2, padding=1, dilation=1, ceil_mode=False)\n",
            "  (layer1): Sequential(\n",
            "    (0): BasicBlock(\n",
            "      (conv1): Conv2d(64, 64, kernel_size=(3, 3), stride=(1, 1), padding=(1, 1), bias=False)\n",
            "      (bn1): BatchNorm2d(64, eps=1e-05, momentum=0.1, affine=True, track_running_stats=True)\n",
            "      (relu): ReLU(inplace=True)\n",
            "      (conv2): Conv2d(64, 64, kernel_size=(3, 3), stride=(1, 1), padding=(1, 1), bias=False)\n",
            "      (bn2): BatchNorm2d(64, eps=1e-05, momentum=0.1, affine=True, track_running_stats=True)\n",
            "    )\n",
            "    (1): BasicBlock(\n",
            "      (conv1): Conv2d(64, 64, kernel_size=(3, 3), stride=(1, 1), padding=(1, 1), bias=False)\n",
            "      (bn1): BatchNorm2d(64, eps=1e-05, momentum=0.1, affine=True, track_running_stats=True)\n",
            "      (relu): ReLU(inplace=True)\n",
            "      (conv2): Conv2d(64, 64, kernel_size=(3, 3), stride=(1, 1), padding=(1, 1), bias=False)\n",
            "      (bn2): BatchNorm2d(64, eps=1e-05, momentum=0.1, affine=True, track_running_stats=True)\n",
            "    )\n",
            "  )\n",
            "  (layer2): Sequential(\n",
            "    (0): BasicBlock(\n",
            "      (conv1): Conv2d(64, 128, kernel_size=(3, 3), stride=(2, 2), padding=(1, 1), bias=False)\n",
            "      (bn1): BatchNorm2d(128, eps=1e-05, momentum=0.1, affine=True, track_running_stats=True)\n",
            "      (relu): ReLU(inplace=True)\n",
            "      (conv2): Conv2d(128, 128, kernel_size=(3, 3), stride=(1, 1), padding=(1, 1), bias=False)\n",
            "      (bn2): BatchNorm2d(128, eps=1e-05, momentum=0.1, affine=True, track_running_stats=True)\n",
            "      (downsample): Sequential(\n",
            "        (0): Conv2d(64, 128, kernel_size=(1, 1), stride=(2, 2), bias=False)\n",
            "        (1): BatchNorm2d(128, eps=1e-05, momentum=0.1, affine=True, track_running_stats=True)\n",
            "      )\n",
            "    )\n",
            "    (1): BasicBlock(\n",
            "      (conv1): Conv2d(128, 128, kernel_size=(3, 3), stride=(1, 1), padding=(1, 1), bias=False)\n",
            "      (bn1): BatchNorm2d(128, eps=1e-05, momentum=0.1, affine=True, track_running_stats=True)\n",
            "      (relu): ReLU(inplace=True)\n",
            "      (conv2): Conv2d(128, 128, kernel_size=(3, 3), stride=(1, 1), padding=(1, 1), bias=False)\n",
            "      (bn2): BatchNorm2d(128, eps=1e-05, momentum=0.1, affine=True, track_running_stats=True)\n",
            "    )\n",
            "  )\n",
            "  (layer3): Sequential(\n",
            "    (0): BasicBlock(\n",
            "      (conv1): Conv2d(128, 256, kernel_size=(3, 3), stride=(2, 2), padding=(1, 1), bias=False)\n",
            "      (bn1): BatchNorm2d(256, eps=1e-05, momentum=0.1, affine=True, track_running_stats=True)\n",
            "      (relu): ReLU(inplace=True)\n",
            "      (conv2): Conv2d(256, 256, kernel_size=(3, 3), stride=(1, 1), padding=(1, 1), bias=False)\n",
            "      (bn2): BatchNorm2d(256, eps=1e-05, momentum=0.1, affine=True, track_running_stats=True)\n",
            "      (downsample): Sequential(\n",
            "        (0): Conv2d(128, 256, kernel_size=(1, 1), stride=(2, 2), bias=False)\n",
            "        (1): BatchNorm2d(256, eps=1e-05, momentum=0.1, affine=True, track_running_stats=True)\n",
            "      )\n",
            "    )\n",
            "    (1): BasicBlock(\n",
            "      (conv1): Conv2d(256, 256, kernel_size=(3, 3), stride=(1, 1), padding=(1, 1), bias=False)\n",
            "      (bn1): BatchNorm2d(256, eps=1e-05, momentum=0.1, affine=True, track_running_stats=True)\n",
            "      (relu): ReLU(inplace=True)\n",
            "      (conv2): Conv2d(256, 256, kernel_size=(3, 3), stride=(1, 1), padding=(1, 1), bias=False)\n",
            "      (bn2): BatchNorm2d(256, eps=1e-05, momentum=0.1, affine=True, track_running_stats=True)\n",
            "    )\n",
            "  )\n",
            "  (layer4): Sequential(\n",
            "    (0): BasicBlock(\n",
            "      (conv1): Conv2d(256, 512, kernel_size=(3, 3), stride=(2, 2), padding=(1, 1), bias=False)\n",
            "      (bn1): BatchNorm2d(512, eps=1e-05, momentum=0.1, affine=True, track_running_stats=True)\n",
            "      (relu): ReLU(inplace=True)\n",
            "      (conv2): Conv2d(512, 512, kernel_size=(3, 3), stride=(1, 1), padding=(1, 1), bias=False)\n",
            "      (bn2): BatchNorm2d(512, eps=1e-05, momentum=0.1, affine=True, track_running_stats=True)\n",
            "      (downsample): Sequential(\n",
            "        (0): Conv2d(256, 512, kernel_size=(1, 1), stride=(2, 2), bias=False)\n",
            "        (1): BatchNorm2d(512, eps=1e-05, momentum=0.1, affine=True, track_running_stats=True)\n",
            "      )\n",
            "    )\n",
            "    (1): BasicBlock(\n",
            "      (conv1): Conv2d(512, 512, kernel_size=(3, 3), stride=(1, 1), padding=(1, 1), bias=False)\n",
            "      (bn1): BatchNorm2d(512, eps=1e-05, momentum=0.1, affine=True, track_running_stats=True)\n",
            "      (relu): ReLU(inplace=True)\n",
            "      (conv2): Conv2d(512, 512, kernel_size=(3, 3), stride=(1, 1), padding=(1, 1), bias=False)\n",
            "      (bn2): BatchNorm2d(512, eps=1e-05, momentum=0.1, affine=True, track_running_stats=True)\n",
            "    )\n",
            "  )\n",
            "  (avgpool): AdaptiveAvgPool2d(output_size=(1, 1))\n",
            "  (fc): Linear(in_features=512, out_features=2, bias=True)\n",
            ")\n"
          ]
        }
      ]
    },
    {
      "cell_type": "markdown",
      "source": [
        "# Load Patches & Labels Data"
      ],
      "metadata": {
        "id": "Z6_99zhPteTu"
      }
    },
    {
      "cell_type": "code",
      "source": [
        "# data preprocessor\n",
        "data_transforms = {\n",
        "    'train': transforms.Compose([\n",
        "        transforms.RandomResizedCrop(input_size),\n",
        "        transforms.RandomHorizontalFlip(),\n",
        "        transforms.ToTensor(),\n",
        "        transforms.Normalize([0.485, 0.456, 0.406], [0.229, 0.224, 0.225])\n",
        "    ]),\n",
        "    'val': transforms.Compose([\n",
        "        transforms.Resize(input_size),\n",
        "        transforms.CenterCrop(input_size),\n",
        "        transforms.ToTensor(),\n",
        "        transforms.Normalize([0.485, 0.456, 0.406], [0.229, 0.224, 0.225])\n",
        "    ]),\n",
        "}\n"
      ],
      "metadata": {
        "id": "NIGVPZ0eJcOr"
      },
      "execution_count": 14,
      "outputs": []
    },
    {
      "cell_type": "code",
      "source": [
        "project_dir = '/content/gdrive/My Drive/screw_dataset/nut_patch_model'\n",
        "data_dir = os.path.join(project_dir, 'data')\n",
        "os.listdir(data_dir)"
      ],
      "metadata": {
        "colab": {
          "base_uri": "https://localhost:8080/"
        },
        "id": "bY-iZQXl15xN",
        "outputId": "7a906aa9-b98e-421a-d187-1e1a5df2dc19"
      },
      "execution_count": 16,
      "outputs": [
        {
          "output_type": "execute_result",
          "data": {
            "text/plain": [
              "['train', 'val', 'sample.jpg']"
            ]
          },
          "metadata": {},
          "execution_count": 16
        }
      ]
    },
    {
      "cell_type": "code",
      "source": [
        "print(\"Initializing Datasets and Dataloaders...\")\n",
        "\n",
        "# Create training and validation datasets\n",
        "image_datasets = {x: datasets.ImageFolder(os.path.join(data_dir, x), data_transforms[x]) for x in ['train', 'val']}\n",
        "# Create training and validation dataloaders\n",
        "dataloaders_dict = {x: torch.utils.data.DataLoader(image_datasets[x], batch_size=batch_size, shuffle=True, num_workers=4) for x in ['train', 'val']}\n",
        "\n",
        "# Detect if we have a GPU available\n",
        "device = torch.device(\"cuda:0\" if torch.cuda.is_available() else \"cpu\")"
      ],
      "metadata": {
        "id": "fis3ZJDsJldH",
        "colab": {
          "base_uri": "https://localhost:8080/"
        },
        "outputId": "7c0c5f66-e0c1-4842-cf56-c81b3460444f"
      },
      "execution_count": 31,
      "outputs": [
        {
          "output_type": "stream",
          "name": "stdout",
          "text": [
            "Initializing Datasets and Dataloaders...\n"
          ]
        },
        {
          "output_type": "stream",
          "name": "stderr",
          "text": [
            "/usr/local/lib/python3.7/dist-packages/torch/utils/data/dataloader.py:560: UserWarning: This DataLoader will create 4 worker processes in total. Our suggested max number of worker in current system is 2, which is smaller than what this DataLoader is going to create. Please be aware that excessive worker creation might get DataLoader running slow or even freeze, lower the worker number to avoid potential slowness/freeze if necessary.\n",
            "  cpuset_checked))\n"
          ]
        }
      ]
    },
    {
      "cell_type": "markdown",
      "source": [
        "# Training Model"
      ],
      "metadata": {
        "id": "JSuS7ETxtp2O"
      }
    },
    {
      "cell_type": "markdown",
      "source": [
        "## Create Optimizer"
      ],
      "metadata": {
        "id": "Bhyl8NBW78YZ"
      }
    },
    {
      "cell_type": "code",
      "source": [
        "# Send the model to GPU\n",
        "model_ft = model_ft.to(device)\n",
        "\n",
        "# Gather the parameters to be optimized/updated in this run. If we are\n",
        "#  finetuning we will be updating all parameters. However, if we are \n",
        "#  doing feature extract method, we will only update the parameters\n",
        "#  that we have just initialized, i.e. the parameters with requires_grad\n",
        "#  is True.\n",
        "params_to_update = model_ft.parameters()\n",
        "print(\"Params to learn:\")\n",
        "if feature_extract:\n",
        "    params_to_update = []\n",
        "    for name,param in model_ft.named_parameters():\n",
        "        if param.requires_grad == True:\n",
        "            params_to_update.append(param)\n",
        "            print(\"\\t\",name)\n",
        "else:\n",
        "    for name,param in model_ft.named_parameters():\n",
        "        if param.requires_grad == True:\n",
        "            print(\"\\t\",name)\n",
        "\n",
        "# Observe that all parameters are being optimized\n",
        "optimizer_ft = optim.SGD(params_to_update, lr=0.001, momentum=0.9)"
      ],
      "metadata": {
        "id": "IF3lhOMW707s",
        "outputId": "ad02f499-34ba-488e-850c-d6ee67173d7f",
        "colab": {
          "base_uri": "https://localhost:8080/"
        }
      },
      "execution_count": 32,
      "outputs": [
        {
          "output_type": "stream",
          "name": "stdout",
          "text": [
            "Params to learn:\n",
            "\t fc.weight\n",
            "\t fc.bias\n"
          ]
        }
      ]
    },
    {
      "cell_type": "markdown",
      "source": [
        "## Run Training"
      ],
      "metadata": {
        "id": "mf6B_wHd73Ca"
      }
    },
    {
      "cell_type": "code",
      "source": [
        "# Setup the loss fxn\n",
        "criterion = nn.CrossEntropyLoss()\n",
        "\n",
        "# Train and evaluate\n",
        "model_ft, hist = train_model(model_ft, dataloaders_dict, criterion, optimizer_ft, num_epochs=num_epochs, is_inception=(model_name==\"inception\"))"
      ],
      "metadata": {
        "id": "EnfTAZVg71ZP",
        "outputId": "5e0739b1-5798-43b4-c99e-de4b67fd5a90",
        "colab": {
          "base_uri": "https://localhost:8080/"
        }
      },
      "execution_count": 33,
      "outputs": [
        {
          "output_type": "stream",
          "name": "stdout",
          "text": [
            "Epoch 0/14\n",
            "----------\n"
          ]
        },
        {
          "output_type": "stream",
          "name": "stderr",
          "text": [
            "/usr/local/lib/python3.7/dist-packages/torch/utils/data/dataloader.py:560: UserWarning: This DataLoader will create 4 worker processes in total. Our suggested max number of worker in current system is 2, which is smaller than what this DataLoader is going to create. Please be aware that excessive worker creation might get DataLoader running slow or even freeze, lower the worker number to avoid potential slowness/freeze if necessary.\n",
            "  cpuset_checked))\n"
          ]
        },
        {
          "output_type": "stream",
          "name": "stdout",
          "text": [
            "train Loss: 0.3273 Acc: 0.8433\n",
            "val Loss: 0.0862 Acc: 0.9931\n",
            "\n",
            "Epoch 1/14\n",
            "----------\n",
            "train Loss: 0.1797 Acc: 0.9283\n",
            "val Loss: 0.0502 Acc: 0.9966\n",
            "\n",
            "Epoch 2/14\n",
            "----------\n",
            "train Loss: 0.0844 Acc: 0.9693\n",
            "val Loss: 0.0405 Acc: 0.9966\n",
            "\n",
            "Epoch 3/14\n",
            "----------\n",
            "train Loss: 0.1005 Acc: 0.9575\n",
            "val Loss: 0.0303 Acc: 0.9966\n",
            "\n",
            "Epoch 4/14\n",
            "----------\n",
            "train Loss: 0.1600 Acc: 0.9341\n",
            "val Loss: 0.0345 Acc: 0.9966\n",
            "\n",
            "Epoch 5/14\n",
            "----------\n",
            "train Loss: 0.2153 Acc: 0.9165\n",
            "val Loss: 0.0848 Acc: 0.9793\n",
            "\n",
            "Epoch 6/14\n",
            "----------\n",
            "train Loss: 0.0736 Acc: 0.9707\n",
            "val Loss: 0.0398 Acc: 0.9862\n",
            "\n",
            "Epoch 7/14\n",
            "----------\n",
            "train Loss: 0.0504 Acc: 0.9810\n",
            "val Loss: 0.0219 Acc: 0.9931\n",
            "\n",
            "Epoch 8/14\n",
            "----------\n",
            "train Loss: 0.0931 Acc: 0.9634\n",
            "val Loss: 0.0464 Acc: 0.9828\n",
            "\n",
            "Epoch 9/14\n",
            "----------\n",
            "train Loss: 0.0821 Acc: 0.9678\n",
            "val Loss: 0.0321 Acc: 0.9931\n",
            "\n",
            "Epoch 10/14\n",
            "----------\n",
            "train Loss: 0.1334 Acc: 0.9473\n",
            "val Loss: 0.0244 Acc: 0.9931\n",
            "\n",
            "Epoch 11/14\n",
            "----------\n",
            "train Loss: 0.0911 Acc: 0.9678\n",
            "val Loss: 0.0165 Acc: 1.0000\n",
            "\n",
            "Epoch 12/14\n",
            "----------\n",
            "train Loss: 0.1364 Acc: 0.9488\n",
            "val Loss: 0.0215 Acc: 0.9966\n",
            "\n",
            "Epoch 13/14\n",
            "----------\n",
            "train Loss: 0.0625 Acc: 0.9751\n",
            "val Loss: 0.0158 Acc: 0.9931\n",
            "\n",
            "Epoch 14/14\n",
            "----------\n",
            "train Loss: 0.0738 Acc: 0.9780\n",
            "val Loss: 0.0187 Acc: 0.9966\n",
            "\n",
            "Training complete in 1m 38s\n",
            "Best val Acc: 1.000000\n"
          ]
        }
      ]
    },
    {
      "cell_type": "code",
      "source": [
        "from ipywidgets import widgets, interact"
      ],
      "metadata": {
        "id": "vbvlrAdnBLno"
      },
      "execution_count": 89,
      "outputs": []
    },
    {
      "cell_type": "code",
      "source": [
        "data_class_dict = ['train', 'val']\n",
        "pred_list = ['blank', 'nut']\n",
        "phase = 0"
      ],
      "metadata": {
        "id": "BlmRCny-CiO8"
      },
      "execution_count": 112,
      "outputs": []
    },
    {
      "cell_type": "code",
      "source": [
        "@widgets.interact\n",
        "def predictor(phase = widgets.IntSlider(val=0, max=1, min =0), img_id = widgets.IntSlider(val=0, min=0, max = len(image_datasets[data_class_dict[phase]])) ):\n",
        "\n",
        "  tensor = image_datasets[data_class_dict[phase]][img_id]\n",
        "  image = tensor[0].permute(1,2,0)\n",
        "  plt.imshow(image)\n",
        "\n",
        "  input = image_datasets[data_class_dict[phase]][img_id][0].unsqueeze(0)\n",
        "  input = input.to(DEVICE)\n",
        "\n",
        "  prediction = model_ft(input)\n",
        "\n",
        "  output = prediction.cpu().data.numpy()\n",
        "  output = np.argmax(output)\n",
        "\n",
        "  print(\"ground truth class: \", pred_list[tensor[1]])\n",
        "\n",
        "  output = pred_list[output]\n",
        "\n",
        "  print(\"prediction: \", output, \" \", prediction.cpu().data.numpy())"
      ],
      "metadata": {
        "id": "FTGUQgTy8vD2",
        "outputId": "db38c883-1736-4396-dc88-8b3a67c47109",
        "colab": {
          "base_uri": "https://localhost:8080/",
          "height": 430,
          "referenced_widgets": [
            "7672cf7bc0ae43b190975c774a647168",
            "b79af7a0f69045c7adf5fc3e9391183e",
            "2b61a42926ac498980c6f6417f136b39",
            "0129d263a7aa40b6be4dfac283612a76",
            "0283ad0c9c4046fead3597b43cc4d678",
            "2a540c33139149aa9308a12d0b473064",
            "3f0d8002e29747b6a953dfdd2faf1ca6",
            "47039743048a4a1c9f08e50a9be0fa80",
            "bff68a2119f34a02a0d3d26dc9fd1166",
            "e9ef4d37a12c4d49a2beffd6935344dc"
          ]
        }
      },
      "execution_count": 116,
      "outputs": [
        {
          "output_type": "display_data",
          "data": {
            "text/plain": [
              "interactive(children=(IntSlider(value=0, description='phase', max=1), IntSlider(value=0, description='img_id',…"
            ],
            "application/vnd.jupyter.widget-view+json": {
              "version_major": 2,
              "version_minor": 0,
              "model_id": "7672cf7bc0ae43b190975c774a647168"
            }
          },
          "metadata": {}
        }
      ]
    },
    {
      "cell_type": "markdown",
      "source": [
        "## Compare with Model Trained from Scratch"
      ],
      "metadata": {
        "id": "M-VvwTjp8EVD"
      }
    },
    {
      "cell_type": "code",
      "source": [
        "# Initialize the non-pretrained version of the model used for this run\n",
        "scratch_model,_ = initialize_model(model_name, num_classes, feature_extract=False, use_pretrained=False)\n",
        "scratch_model = scratch_model.to(device)\n",
        "scratch_optimizer = optim.SGD(scratch_model.parameters(), lr=0.001, momentum=0.9)\n",
        "scratch_criterion = nn.CrossEntropyLoss()\n",
        "_,scratch_hist = train_model(scratch_model, dataloaders_dict, scratch_criterion, scratch_optimizer, num_epochs=num_epochs, is_inception=(model_name==\"inception\"))\n",
        "\n",
        "# Plot the training curves of validation accuracy vs. number \n",
        "#  of training epochs for the transfer learning method and\n",
        "#  the model trained from scratch\n",
        "ohist = []\n",
        "shist = []\n",
        "\n",
        "ohist = [h.cpu().numpy() for h in hist]\n",
        "shist = [h.cpu().numpy() for h in scratch_hist]\n",
        "\n",
        "plt.title(\"Validation Accuracy vs. Number of Training Epochs\")\n",
        "plt.xlabel(\"Training Epochs\")\n",
        "plt.ylabel(\"Validation Accuracy\")\n",
        "plt.plot(range(1,num_epochs+1),ohist,label=\"Pretrained\")\n",
        "plt.plot(range(1,num_epochs+1),shist,label=\"Scratch\")\n",
        "plt.ylim((0,1.))\n",
        "plt.xticks(np.arange(1, num_epochs+1, 1.0))\n",
        "plt.legend()\n",
        "plt.show()"
      ],
      "metadata": {
        "id": "cMu2e9hj8Dkd",
        "outputId": "cb74ae73-7681-43e1-99bb-373f42a145c7",
        "colab": {
          "base_uri": "https://localhost:8080/",
          "height": 1000
        }
      },
      "execution_count": 66,
      "outputs": [
        {
          "output_type": "stream",
          "name": "stderr",
          "text": [
            "/usr/local/lib/python3.7/dist-packages/torchvision/models/_utils.py:209: UserWarning: The parameter 'pretrained' is deprecated since 0.13 and will be removed in 0.15, please use 'weights' instead.\n",
            "  f\"The parameter '{pretrained_param}' is deprecated since 0.13 and will be removed in 0.15, \"\n",
            "/usr/local/lib/python3.7/dist-packages/torchvision/models/_utils.py:223: UserWarning: Arguments other than a weight enum or `None` for 'weights' are deprecated since 0.13 and will be removed in 0.15. The current behavior is equivalent to passing `weights=None`.\n",
            "  warnings.warn(msg)\n"
          ]
        },
        {
          "output_type": "stream",
          "name": "stdout",
          "text": [
            "Epoch 0/14\n",
            "----------\n"
          ]
        },
        {
          "output_type": "stream",
          "name": "stderr",
          "text": [
            "/usr/local/lib/python3.7/dist-packages/torch/utils/data/dataloader.py:560: UserWarning: This DataLoader will create 4 worker processes in total. Our suggested max number of worker in current system is 2, which is smaller than what this DataLoader is going to create. Please be aware that excessive worker creation might get DataLoader running slow or even freeze, lower the worker number to avoid potential slowness/freeze if necessary.\n",
            "  cpuset_checked))\n"
          ]
        },
        {
          "output_type": "stream",
          "name": "stdout",
          "text": [
            "train Loss: 0.1936 Acc: 0.9546\n",
            "val Loss: 0.0293 Acc: 0.9931\n",
            "\n",
            "Epoch 1/14\n",
            "----------\n",
            "train Loss: 0.0695 Acc: 0.9810\n",
            "val Loss: 0.0366 Acc: 0.9862\n",
            "\n",
            "Epoch 2/14\n",
            "----------\n",
            "train Loss: 0.0324 Acc: 0.9927\n",
            "val Loss: 0.0190 Acc: 0.9931\n",
            "\n",
            "Epoch 3/14\n",
            "----------\n",
            "train Loss: 0.0470 Acc: 0.9868\n",
            "val Loss: 0.0083 Acc: 0.9966\n",
            "\n",
            "Epoch 4/14\n",
            "----------\n",
            "train Loss: 0.0547 Acc: 0.9883\n",
            "val Loss: 0.0067 Acc: 1.0000\n",
            "\n",
            "Epoch 5/14\n",
            "----------\n",
            "train Loss: 0.0533 Acc: 0.9810\n",
            "val Loss: 0.0100 Acc: 0.9966\n",
            "\n",
            "Epoch 6/14\n",
            "----------\n",
            "train Loss: 0.0455 Acc: 0.9868\n",
            "val Loss: 0.0091 Acc: 1.0000\n",
            "\n",
            "Epoch 7/14\n",
            "----------\n",
            "train Loss: 0.1180 Acc: 0.9707\n",
            "val Loss: 0.0080 Acc: 1.0000\n",
            "\n",
            "Epoch 8/14\n",
            "----------\n",
            "train Loss: 0.0425 Acc: 0.9883\n",
            "val Loss: 0.0181 Acc: 0.9966\n",
            "\n",
            "Epoch 9/14\n",
            "----------\n",
            "train Loss: 0.0382 Acc: 0.9927\n",
            "val Loss: 0.0117 Acc: 0.9966\n",
            "\n",
            "Epoch 10/14\n",
            "----------\n",
            "train Loss: 0.0377 Acc: 0.9912\n",
            "val Loss: 0.0128 Acc: 0.9966\n",
            "\n",
            "Epoch 11/14\n",
            "----------\n",
            "train Loss: 0.0467 Acc: 0.9927\n",
            "val Loss: 0.0062 Acc: 1.0000\n",
            "\n",
            "Epoch 12/14\n",
            "----------\n",
            "train Loss: 0.0976 Acc: 0.9810\n",
            "val Loss: 0.0089 Acc: 1.0000\n",
            "\n",
            "Epoch 13/14\n",
            "----------\n",
            "train Loss: 0.0209 Acc: 0.9971\n",
            "val Loss: 0.0109 Acc: 0.9966\n",
            "\n",
            "Epoch 14/14\n",
            "----------\n",
            "train Loss: 0.0316 Acc: 0.9941\n",
            "val Loss: 0.0062 Acc: 1.0000\n",
            "\n",
            "Training complete in 1m 24s\n",
            "Best val Acc: 1.000000\n"
          ]
        },
        {
          "output_type": "display_data",
          "data": {
            "text/plain": [
              "<Figure size 432x288 with 1 Axes>"
            ],
            "image/png": "[encoded data removed]"
          },
          "metadata": {
            "needs_background": "light"
          }
        }
      ]
    }
  ]
}